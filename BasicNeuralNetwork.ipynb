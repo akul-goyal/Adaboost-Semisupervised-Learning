{
 "cells": [
  {
   "cell_type": "code",
   "execution_count": 5,
   "metadata": {},
   "outputs": [],
   "source": [
    "import tensorflow as tf\n",
    "import pandas as pd\n",
    "import numpy as np"
   ]
  },
  {
   "cell_type": "code",
   "execution_count": 6,
   "metadata": {},
   "outputs": [],
   "source": [
    "# define an empty list\n",
    "x_train = []\n",
    "\n",
    "# open file and read the content in a list\n",
    "with open('listfile.txt', 'r') as filehandle:\n",
    "    for line in filehandle:\n",
    "        # remove linebreak which is the last character of the string\n",
    "        currentPlace = line[:-1]\n",
    "\n",
    "        # add item to the list\n",
    "        x_train.append(currentPlace)\n",
    "# define an empty list\n",
    "y_train = []\n",
    "\n",
    "# open file and read the content in a list\n",
    "with open('listfile1.txt', 'r') as filehandle:\n",
    "    for line in filehandle:\n",
    "        # remove linebreak which is the last character of the string\n",
    "        currentPlace = line[:-1]\n",
    "\n",
    "        # add item to the list\n",
    "        y_train.append(currentPlace)"
   ]
  },
  {
   "cell_type": "code",
   "execution_count": 7,
   "metadata": {},
   "outputs": [],
   "source": [
    "import ast\n",
    "temp1=[]\n",
    "for x in x_train:\n",
    "    temp1.append(ast.literal_eval(x))\n",
    "x_train=temp1\n",
    "x_train = np.asarray(x_train)\n",
    "import ast\n",
    "temp2=[]\n",
    "for x in y_train:\n",
    "    temp2.append(ast.literal_eval(x))\n",
    "y_train=temp2\n",
    "y_train = np.asarray(y_train)"
   ]
  },
  {
   "cell_type": "code",
   "execution_count": 14,
   "metadata": {},
   "outputs": [
    {
     "name": "stdout",
     "output_type": "stream",
     "text": [
      "Epoch 1/3\n",
      "693/693 [==============================] - 0s 637us/step - loss: 9.9925 - acc: 0.1400\n",
      "Epoch 2/3\n",
      "693/693 [==============================] - 0s 54us/step - loss: 3.5667 - acc: 0.1674\n",
      "Epoch 3/3\n",
      "693/693 [==============================] - 0s 61us/step - loss: 3.1353 - acc: 0.1674\n"
     ]
    }
   ],
   "source": [
    "#Using Keras Sequentail Model, this is bound to change\n",
    "model = tf.keras.models.Sequential()\n",
    "#Using 3 hidden layers with 128 nodes relu activation function, bound to change\n",
    "model.add(tf.keras.layers.Flatten())\n",
    "model.add(tf.keras.layers.Dense(128,kernel_initializer='normal', activation=tf.nn.relu))\n",
    "model.add(tf.keras.layers.Dense(128,kernel_initializer='normal', activation=tf.nn.relu))\n",
    "model.add(tf.keras.layers.Dense(128,kernel_initializer='normal', activation=tf.nn.relu))\n",
    "#Using a single output with linear activation for Off Rtg or Def Rtg, definietly might change\n",
    "model.add(tf.keras.layers.Dense(1, kernel_initializer='normal', activation='linear'))\n",
    "#using adam optimizer, and MSE\n",
    "model.compile(optimizer='adam',loss='mean_squared_error', metrics=['accuracy'])\n",
    "#training model for 3 epochs, will increase for better accuracy\n",
    "history = model.fit(x_train,y_train,epochs=3)"
   ]
  },
  {
   "cell_type": "code",
   "execution_count": 16,
   "metadata": {},
   "outputs": [
    {
     "name": "stdout",
     "output_type": "stream",
     "text": [
      "[3.0361745791001753, 0.1673881674150454]\n"
     ]
    }
   ],
   "source": [
    "# define an empty list\n",
    "x_test = []\n",
    "\n",
    "# open file and read the content in a list\n",
    "with open('listfile.txt', 'r') as filehandle:\n",
    "    for line in filehandle:\n",
    "        # remove linebreak which is the last character of the string\n",
    "        currentPlace = line[:-1]\n",
    "\n",
    "        # add item to the list\n",
    "        x_test.append(currentPlace)\n",
    "# define an empty list\n",
    "y_test = []\n",
    "\n",
    "# open file and read the content in a list\n",
    "with open('listfile1.txt', 'r') as filehandle:\n",
    "    for line in filehandle:\n",
    "        # remove linebreak which is the last character of the string\n",
    "        currentPlace = line[:-1]\n",
    "\n",
    "        # add item to the list\n",
    "        y_test.append(currentPlace)\n",
    "        \n",
    "import ast\n",
    "temp1=[]\n",
    "for x in x_test:\n",
    "    temp1.append(ast.literal_eval(x))\n",
    "x_test=temp1\n",
    "x_test = np.asarray(x_test)\n",
    "import ast\n",
    "temp2=[]\n",
    "for x in y_test:\n",
    "    temp2.append(ast.literal_eval(x))\n",
    "y_test=temp2\n",
    "y_test = np.asarray(y_test)\n",
    "\n",
    "\n",
    "#validate model\n",
    "acc = model.evaluate(x_test,y_test,verbose=0)\n",
    "print(acc)"
   ]
  },
  {
   "cell_type": "code",
   "execution_count": null,
   "metadata": {},
   "outputs": [],
   "source": []
  },
  {
   "cell_type": "code",
   "execution_count": null,
   "metadata": {},
   "outputs": [],
   "source": []
  }
 ],
 "metadata": {
  "kernelspec": {
   "display_name": "Python 3",
   "language": "python",
   "name": "python3"
  },
  "language_info": {
   "codemirror_mode": {
    "name": "ipython",
    "version": 3
   },
   "file_extension": ".py",
   "mimetype": "text/x-python",
   "name": "python",
   "nbconvert_exporter": "python",
   "pygments_lexer": "ipython3",
   "version": "3.6.4"
  }
 },
 "nbformat": 4,
 "nbformat_minor": 2
}
