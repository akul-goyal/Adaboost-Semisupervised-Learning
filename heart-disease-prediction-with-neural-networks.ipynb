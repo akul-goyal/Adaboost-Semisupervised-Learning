{
 "cells": [
  {
   "cell_type": "markdown",
   "metadata": {},
   "source": [
    "**Heart Disease Prediction with Neural Networks**\n",
    "\n",
    "I chose this to be my very first Kernel on Kaggle, as in fact I quite enjoy the applications of Machine learning and how it impacts our lives. I am an *absolute beginner* as well and just breaking into the field. Thus, this kernel is more focused for learning purposes and exploration. Please feel free to give advice, recommendations/ better approaches or whatsover on the code below.\n",
    "\n",
    "The heart disease data-set is a quite small dataset with today's modern standards. In this kernel first, I'll do a small bit of data exploration then, I try to create a very simple and straightforward model. That we analyze later, and try to improve its performance.\n",
    "\n",
    "First of all, lets add all packages that we will use."
   ]
  },
  {
   "cell_type": "code",
   "execution_count": 142,
   "metadata": {},
   "outputs": [],
   "source": [
    "# Import packages that we will be working with.\n",
    "import os\n",
    "import numpy as np\n",
    "import pandas as pd\n",
    "from keras.layers import Dense\n",
    "import matplotlib.pyplot as plt\n",
    "import tensorflow as tf\n",
    "from tensorflow.python.keras.models import Sequential\n",
    "from tensorflow.python.keras.layers import Dense\n",
    "from tensorflow.python.keras.optimizers import Adam\n",
    "from sklearn.model_selection import train_test_split\n",
    "from sklearn.metrics import classification_report, accuracy_score\n",
    "\n",
    "#print(os.listdir(\"../input\"))\n",
    "np.random.seed(10)"
   ]
  },
  {
   "cell_type": "markdown",
   "metadata": {},
   "source": [
    "**Dataset**\n",
    "\n",
    "Lets load the dataset, and check its components. "
   ]
  },
  {
   "cell_type": "code",
   "execution_count": 143,
   "metadata": {},
   "outputs": [
    {
     "name": "stdout",
     "output_type": "stream",
     "text": [
      "   age  sex  cp  trestbps  chol  fbs  restecg  thalach  exang  oldpeak  slope  \\\n",
      "0   63    1   3       145   233    1        0      150      0      2.3      0   \n",
      "1   37    1   2       130   250    0        1      187      0      3.5      0   \n",
      "2   41    0   1       130   204    0        0      172      0      1.4      2   \n",
      "\n",
      "   ca  thal  target  \n",
      "0   0     1       1  \n",
      "1   0     2       1  \n",
      "2   0     2       1  \n",
      "age           int64\n",
      "sex           int64\n",
      "cp            int64\n",
      "trestbps      int64\n",
      "chol          int64\n",
      "fbs           int64\n",
      "restecg       int64\n",
      "thalach       int64\n",
      "exang         int64\n",
      "oldpeak     float64\n",
      "slope         int64\n",
      "ca            int64\n",
      "thal          int64\n",
      "target        int64\n",
      "dtype: object\n"
     ]
    }
   ],
   "source": [
    "# Load the dataset, and view couple of the first rows.\n",
    "data = pd.read_csv(\"heart.csv\")\n",
    "print(data.head(3))\n",
    "\n",
    "# Check the datatypes\n",
    "print(data.dtypes)"
   ]
  },
  {
   "cell_type": "markdown",
   "metadata": {},
   "source": [
    "So far we have a dataframe that containts all of our data. However we need to split to training data and target labels for learning. Then split the dataset into a train/test sets.\n",
    "\n",
    "We do that in the following block of code."
   ]
  },
  {
   "cell_type": "code",
   "execution_count": 144,
   "metadata": {},
   "outputs": [
    {
     "name": "stdout",
     "output_type": "stream",
     "text": [
      "Train Features Size: (24, 13)\n",
      "Test Features Size: (61, 13)\n",
      "Train Labels Size: (24,)\n",
      "Test Labels Size: (61,)\n"
     ]
    }
   ],
   "source": [
    "# At this moment we have a dataframe that contains all of the heart.csv data. However we need to\n",
    "# Separate them to [X, Y]. Where our target labels are 'Y', and 'X' is our training data.\n",
    "Y = data.target.values\n",
    "X = data.drop(['target'], axis=1)\n",
    "\n",
    "# Now split to train/test with 80% training data, and 20% test data.\n",
    "X_train, X_test, Y_train, Y_test = train_test_split(X, Y, test_size=0.2)\n",
    "X_train, X_train2, Y_train, Y_train2 = train_test_split(X_train, Y_train, test_size=0.9)\n",
    "\n",
    "# Check dimensions of both sets.\n",
    "print(\"Train Features Size:\", X_train.shape)\n",
    "print(\"Test Features Size:\", X_test.shape)\n",
    "print(\"Train Labels Size:\", Y_train.shape)\n",
    "print(\"Test Labels Size:\", Y_test.shape)"
   ]
  },
  {
   "cell_type": "markdown",
   "metadata": {},
   "source": [
    "**Neural Network Model**\n",
    "\n",
    "Lets create a function that we can call later that builds our Neural Network model, and takes in the learning rate as a parameter. The architecture of the Neural Network that we're going to implement is detailed in the below illustration.\n",
    "![](https://raw.githubusercontent.com/3absamad/machine-learning/master/Kaggle/imgs/Kaggle_heart_disease_NN_model.png)\n",
    "In our model, we use `Adam` (Adaptive Momentum) as our optimization algorithm, and set our metrics to `accuracy`. Furthermore, I have used the loss function to be `sparse_categorical_crossentropy` because our traget labels are *integers* and not one hot encoded.\n"
   ]
  },
  {
   "cell_type": "code",
   "execution_count": 145,
   "metadata": {},
   "outputs": [],
   "source": [
    "# Define a Neural Network Model\n",
    "\n",
    "def NN_model(learning_rate):\n",
    "    model = Sequential()\n",
    "    model.add(Dense(32, input_dim=13, kernel_initializer='normal', activation='relu'))\n",
    "    model.add(Dense(16, kernel_initializer='normal', activation='relu'))\n",
    "    model.add(Dense(2, activation='softmax'))\n",
    "    Adam(lr=learning_rate)\n",
    "    model.compile(loss='sparse_categorical_crossentropy', optimizer='Adam', metrics=['accuracy'])\n",
    "    return model"
   ]
  },
  {
   "cell_type": "markdown",
   "metadata": {},
   "source": [
    "Now lets build the NN-model and start training. I chose `learning_rate=0.01`, `epochs=100`, and `batch_size=16`. \n",
    "\n",
    "Training the model for 100 epochs, seems to be pretty fine in order to avoid overfitting. I already performed training with 1000 epochs and around 100 epochs was the reasonable number of epochs for early stopping.\n",
    "\n",
    "Lets take a look at our model summary."
   ]
  },
  {
   "cell_type": "code",
   "execution_count": 146,
   "metadata": {},
   "outputs": [
    {
     "name": "stdout",
     "output_type": "stream",
     "text": [
      "_________________________________________________________________\n",
      "Layer (type)                 Output Shape              Param #   \n",
      "=================================================================\n",
      "dense_51 (Dense)             (None, 32)                448       \n",
      "_________________________________________________________________\n",
      "dense_52 (Dense)             (None, 16)                528       \n",
      "_________________________________________________________________\n",
      "dense_53 (Dense)             (None, 2)                 34        \n",
      "=================================================================\n",
      "Total params: 1,010\n",
      "Trainable params: 1,010\n",
      "Non-trainable params: 0\n",
      "_________________________________________________________________\n",
      "None\n"
     ]
    }
   ],
   "source": [
    "# Build a NN-model, and start training\n",
    "learning_rate = 0.01\n",
    "model = NN_model(learning_rate)\n",
    "print(model.summary())"
   ]
  },
  {
   "cell_type": "markdown",
   "metadata": {},
   "source": [
    "Now we train the network."
   ]
  },
  {
   "cell_type": "code",
   "execution_count": 147,
   "metadata": {
    "_kg_hide-output": false
   },
   "outputs": [
    {
     "name": "stdout",
     "output_type": "stream",
     "text": [
      "Train on 24 samples, validate on 61 samples\n",
      "Epoch 1/100\n",
      " - 1s - loss: 1.1109 - acc: 0.5000 - val_loss: 0.7646 - val_acc: 0.5082\n",
      "Epoch 2/100\n",
      " - 0s - loss: 0.6487 - acc: 0.6250 - val_loss: 0.6957 - val_acc: 0.5902\n",
      "Epoch 3/100\n",
      " - 0s - loss: 0.7790 - acc: 0.5833 - val_loss: 0.7723 - val_acc: 0.5738\n",
      "Epoch 4/100\n",
      " - 0s - loss: 0.7816 - acc: 0.5000 - val_loss: 0.6581 - val_acc: 0.6066\n",
      "Epoch 5/100\n",
      " - 0s - loss: 0.6575 - acc: 0.6250 - val_loss: 0.6313 - val_acc: 0.6230\n",
      "Epoch 6/100\n",
      " - 0s - loss: 0.5716 - acc: 0.7500 - val_loss: 0.7035 - val_acc: 0.4918\n",
      "Epoch 7/100\n",
      " - 0s - loss: 0.6603 - acc: 0.5833 - val_loss: 0.7716 - val_acc: 0.4918\n",
      "Epoch 8/100\n",
      " - 0s - loss: 0.6940 - acc: 0.5417 - val_loss: 0.7308 - val_acc: 0.5082\n",
      "Epoch 9/100\n",
      " - 0s - loss: 0.6556 - acc: 0.5833 - val_loss: 0.6558 - val_acc: 0.6557\n",
      "Epoch 10/100\n",
      " - 0s - loss: 0.6158 - acc: 0.6667 - val_loss: 0.6219 - val_acc: 0.6557\n",
      "Epoch 11/100\n",
      " - 0s - loss: 0.5907 - acc: 0.6250 - val_loss: 0.6210 - val_acc: 0.6885\n",
      "Epoch 12/100\n",
      " - 0s - loss: 0.6089 - acc: 0.6250 - val_loss: 0.6266 - val_acc: 0.6721\n",
      "Epoch 13/100\n",
      " - 0s - loss: 0.6111 - acc: 0.6250 - val_loss: 0.6209 - val_acc: 0.6557\n",
      "Epoch 14/100\n",
      " - 0s - loss: 0.6008 - acc: 0.6250 - val_loss: 0.6191 - val_acc: 0.6393\n",
      "Epoch 15/100\n",
      " - 0s - loss: 0.5735 - acc: 0.6250 - val_loss: 0.6268 - val_acc: 0.6557\n",
      "Epoch 16/100\n",
      " - 0s - loss: 0.5668 - acc: 0.7917 - val_loss: 0.6336 - val_acc: 0.6393\n",
      "Epoch 17/100\n",
      " - 0s - loss: 0.5670 - acc: 0.7500 - val_loss: 0.6362 - val_acc: 0.6393\n",
      "Epoch 18/100\n",
      " - 0s - loss: 0.5638 - acc: 0.7917 - val_loss: 0.6298 - val_acc: 0.6393\n",
      "Epoch 19/100\n",
      " - 0s - loss: 0.5549 - acc: 0.7917 - val_loss: 0.6258 - val_acc: 0.6230\n",
      "Epoch 20/100\n",
      " - 0s - loss: 0.5511 - acc: 0.7917 - val_loss: 0.6206 - val_acc: 0.6557\n",
      "Epoch 21/100\n",
      " - 0s - loss: 0.5516 - acc: 0.7500 - val_loss: 0.6194 - val_acc: 0.6393\n",
      "Epoch 22/100\n",
      " - 0s - loss: 0.5522 - acc: 0.6667 - val_loss: 0.6183 - val_acc: 0.6393\n",
      "Epoch 23/100\n",
      " - 0s - loss: 0.5472 - acc: 0.6250 - val_loss: 0.6177 - val_acc: 0.6393\n",
      "Epoch 24/100\n",
      " - 0s - loss: 0.5436 - acc: 0.6667 - val_loss: 0.6179 - val_acc: 0.6557\n",
      "Epoch 25/100\n",
      " - 0s - loss: 0.5402 - acc: 0.7083 - val_loss: 0.6187 - val_acc: 0.6557\n",
      "Epoch 26/100\n",
      " - 0s - loss: 0.5411 - acc: 0.7083 - val_loss: 0.6208 - val_acc: 0.6230\n",
      "Epoch 27/100\n",
      " - 0s - loss: 0.5307 - acc: 0.8333 - val_loss: 0.6311 - val_acc: 0.6557\n",
      "Epoch 28/100\n",
      " - 0s - loss: 0.5481 - acc: 0.7917 - val_loss: 0.6362 - val_acc: 0.6557\n",
      "Epoch 29/100\n",
      " - 0s - loss: 0.5346 - acc: 0.7917 - val_loss: 0.6229 - val_acc: 0.6230\n",
      "Epoch 30/100\n",
      " - 0s - loss: 0.5225 - acc: 0.8333 - val_loss: 0.6185 - val_acc: 0.6393\n",
      "Epoch 31/100\n",
      " - 0s - loss: 0.5225 - acc: 0.7500 - val_loss: 0.6176 - val_acc: 0.6393\n",
      "Epoch 32/100\n",
      " - 0s - loss: 0.5207 - acc: 0.7500 - val_loss: 0.6165 - val_acc: 0.6557\n",
      "Epoch 33/100\n",
      " - 0s - loss: 0.5175 - acc: 0.7500 - val_loss: 0.6190 - val_acc: 0.6393\n",
      "Epoch 34/100\n",
      " - 0s - loss: 0.5191 - acc: 0.7917 - val_loss: 0.6263 - val_acc: 0.6557\n",
      "Epoch 35/100\n",
      " - 0s - loss: 0.5148 - acc: 0.7917 - val_loss: 0.6235 - val_acc: 0.6393\n",
      "Epoch 36/100\n",
      " - 0s - loss: 0.5107 - acc: 0.7917 - val_loss: 0.6189 - val_acc: 0.6557\n",
      "Epoch 37/100\n",
      " - 0s - loss: 0.5087 - acc: 0.7917 - val_loss: 0.6160 - val_acc: 0.6393\n",
      "Epoch 38/100\n",
      " - 0s - loss: 0.5036 - acc: 0.7917 - val_loss: 0.6149 - val_acc: 0.6393\n",
      "Epoch 39/100\n",
      " - 0s - loss: 0.5013 - acc: 0.7917 - val_loss: 0.6152 - val_acc: 0.6557\n",
      "Epoch 40/100\n",
      " - 0s - loss: 0.4973 - acc: 0.7917 - val_loss: 0.6148 - val_acc: 0.6557\n",
      "Epoch 41/100\n",
      " - 0s - loss: 0.4962 - acc: 0.7500 - val_loss: 0.6145 - val_acc: 0.6557\n",
      "Epoch 42/100\n",
      " - 0s - loss: 0.4934 - acc: 0.7917 - val_loss: 0.6161 - val_acc: 0.6230\n",
      "Epoch 43/100\n",
      " - 0s - loss: 0.4878 - acc: 0.8333 - val_loss: 0.6229 - val_acc: 0.6557\n",
      "Epoch 44/100\n",
      " - 0s - loss: 0.4902 - acc: 0.7917 - val_loss: 0.6265 - val_acc: 0.6557\n",
      "Epoch 45/100\n",
      " - 0s - loss: 0.4906 - acc: 0.7917 - val_loss: 0.6231 - val_acc: 0.6557\n",
      "Epoch 46/100\n",
      " - 0s - loss: 0.4916 - acc: 0.7917 - val_loss: 0.6148 - val_acc: 0.6557\n",
      "Epoch 47/100\n",
      " - 0s - loss: 0.4867 - acc: 0.8333 - val_loss: 0.6153 - val_acc: 0.6721\n",
      "Epoch 48/100\n",
      " - 0s - loss: 0.4856 - acc: 0.7500 - val_loss: 0.6157 - val_acc: 0.6721\n",
      "Epoch 49/100\n",
      " - 0s - loss: 0.4811 - acc: 0.7083 - val_loss: 0.6110 - val_acc: 0.6557\n",
      "Epoch 50/100\n",
      " - 0s - loss: 0.4830 - acc: 0.7917 - val_loss: 0.6157 - val_acc: 0.6721\n",
      "Epoch 51/100\n",
      " - 0s - loss: 0.4719 - acc: 0.8333 - val_loss: 0.6144 - val_acc: 0.6885\n",
      "Epoch 52/100\n",
      " - 0s - loss: 0.4782 - acc: 0.8333 - val_loss: 0.6112 - val_acc: 0.6721\n",
      "Epoch 53/100\n",
      " - 0s - loss: 0.4642 - acc: 0.8333 - val_loss: 0.6139 - val_acc: 0.6557\n",
      "Epoch 54/100\n",
      " - 0s - loss: 0.4634 - acc: 0.8333 - val_loss: 0.6128 - val_acc: 0.6557\n",
      "Epoch 55/100\n",
      " - 0s - loss: 0.4606 - acc: 0.8333 - val_loss: 0.6110 - val_acc: 0.6721\n",
      "Epoch 56/100\n",
      " - 0s - loss: 0.4551 - acc: 0.8333 - val_loss: 0.6109 - val_acc: 0.6721\n",
      "Epoch 57/100\n",
      " - 0s - loss: 0.4527 - acc: 0.8333 - val_loss: 0.6111 - val_acc: 0.6721\n",
      "Epoch 58/100\n",
      " - 0s - loss: 0.4577 - acc: 0.7500 - val_loss: 0.6117 - val_acc: 0.6721\n",
      "Epoch 59/100\n",
      " - 0s - loss: 0.4525 - acc: 0.8333 - val_loss: 0.6135 - val_acc: 0.6885\n",
      "Epoch 60/100\n",
      " - 0s - loss: 0.4575 - acc: 0.8333 - val_loss: 0.6197 - val_acc: 0.6557\n",
      "Epoch 61/100\n",
      " - 0s - loss: 0.4504 - acc: 0.8333 - val_loss: 0.6130 - val_acc: 0.6721\n",
      "Epoch 62/100\n",
      " - 0s - loss: 0.4401 - acc: 0.8333 - val_loss: 0.6114 - val_acc: 0.6557\n",
      "Epoch 63/100\n",
      " - 0s - loss: 0.4429 - acc: 0.7500 - val_loss: 0.6197 - val_acc: 0.6721\n",
      "Epoch 64/100\n",
      " - 0s - loss: 0.4481 - acc: 0.7917 - val_loss: 0.6179 - val_acc: 0.6721\n",
      "Epoch 65/100\n",
      " - 0s - loss: 0.4413 - acc: 0.7917 - val_loss: 0.6140 - val_acc: 0.6721\n",
      "Epoch 66/100\n",
      " - 0s - loss: 0.4346 - acc: 0.7917 - val_loss: 0.6185 - val_acc: 0.6885\n",
      "Epoch 67/100\n",
      " - 0s - loss: 0.4348 - acc: 0.8333 - val_loss: 0.6180 - val_acc: 0.6721\n",
      "Epoch 68/100\n",
      " - 0s - loss: 0.4271 - acc: 0.7917 - val_loss: 0.6166 - val_acc: 0.6721\n",
      "Epoch 69/100\n",
      " - 0s - loss: 0.4404 - acc: 0.8333 - val_loss: 0.6189 - val_acc: 0.6721\n",
      "Epoch 70/100\n",
      " - 0s - loss: 0.4500 - acc: 0.7917 - val_loss: 0.6138 - val_acc: 0.6557\n",
      "Epoch 71/100\n",
      " - 0s - loss: 0.4197 - acc: 0.7917 - val_loss: 0.6148 - val_acc: 0.6557\n",
      "Epoch 72/100\n",
      " - 0s - loss: 0.4188 - acc: 0.8750 - val_loss: 0.6151 - val_acc: 0.6557\n",
      "Epoch 73/100\n",
      " - 0s - loss: 0.4148 - acc: 0.8750 - val_loss: 0.6152 - val_acc: 0.6885\n",
      "Epoch 74/100\n",
      " - 0s - loss: 0.4135 - acc: 0.8333 - val_loss: 0.6173 - val_acc: 0.6885\n",
      "Epoch 75/100\n",
      " - 0s - loss: 0.4223 - acc: 0.8333 - val_loss: 0.6177 - val_acc: 0.7049\n",
      "Epoch 76/100\n",
      " - 0s - loss: 0.4133 - acc: 0.8333 - val_loss: 0.6148 - val_acc: 0.6557\n",
      "Epoch 77/100\n",
      " - 0s - loss: 0.4068 - acc: 0.8750 - val_loss: 0.6190 - val_acc: 0.6721\n",
      "Epoch 78/100\n",
      " - 0s - loss: 0.4128 - acc: 0.8750 - val_loss: 0.6201 - val_acc: 0.6721\n",
      "Epoch 79/100\n",
      " - 0s - loss: 0.4013 - acc: 0.8750 - val_loss: 0.6219 - val_acc: 0.6721\n",
      "Epoch 80/100\n",
      " - 0s - loss: 0.4083 - acc: 0.8333 - val_loss: 0.6298 - val_acc: 0.6393\n",
      "Epoch 81/100\n",
      " - 0s - loss: 0.4119 - acc: 0.8333 - val_loss: 0.6234 - val_acc: 0.6721\n",
      "Epoch 82/100\n",
      " - 0s - loss: 0.3895 - acc: 0.8333 - val_loss: 0.6350 - val_acc: 0.6721\n",
      "Epoch 83/100\n",
      " - 0s - loss: 0.4316 - acc: 0.6667 - val_loss: 0.6502 - val_acc: 0.7049\n",
      "Epoch 84/100\n",
      " - 0s - loss: 0.4158 - acc: 0.7083 - val_loss: 0.6245 - val_acc: 0.6885\n",
      "Epoch 85/100\n",
      " - 0s - loss: 0.3861 - acc: 0.8750 - val_loss: 0.6291 - val_acc: 0.6721\n",
      "Epoch 86/100\n",
      " - 0s - loss: 0.4226 - acc: 0.8333 - val_loss: 0.6397 - val_acc: 0.6230\n",
      "Epoch 87/100\n",
      " - 0s - loss: 0.4112 - acc: 0.8333 - val_loss: 0.6218 - val_acc: 0.6885\n",
      "Epoch 88/100\n",
      " - 0s - loss: 0.3837 - acc: 0.8333 - val_loss: 0.6297 - val_acc: 0.6721\n",
      "Epoch 89/100\n",
      " - 0s - loss: 0.3950 - acc: 0.8333 - val_loss: 0.6407 - val_acc: 0.6721\n",
      "Epoch 90/100\n",
      " - 0s - loss: 0.4143 - acc: 0.7500 - val_loss: 0.6276 - val_acc: 0.6721\n",
      "Epoch 91/100\n",
      " - 0s - loss: 0.3684 - acc: 0.8750 - val_loss: 0.6442 - val_acc: 0.6230\n",
      "Epoch 92/100\n",
      " - 0s - loss: 0.4201 - acc: 0.7917 - val_loss: 0.6738 - val_acc: 0.6230\n",
      "Epoch 93/100\n",
      " - 0s - loss: 0.4373 - acc: 0.7917 - val_loss: 0.6376 - val_acc: 0.6721\n",
      "Epoch 94/100\n",
      " - 0s - loss: 0.3841 - acc: 0.8333 - val_loss: 0.6407 - val_acc: 0.6885\n",
      "Epoch 95/100\n",
      " - 0s - loss: 0.3983 - acc: 0.7083 - val_loss: 0.6733 - val_acc: 0.7049\n",
      "Epoch 96/100\n",
      " - 0s - loss: 0.4120 - acc: 0.7083 - val_loss: 0.6550 - val_acc: 0.7049\n"
     ]
    },
    {
     "name": "stdout",
     "output_type": "stream",
     "text": [
      "Epoch 97/100\n",
      " - 0s - loss: 0.3985 - acc: 0.8333 - val_loss: 0.6342 - val_acc: 0.6885\n",
      "Epoch 98/100\n",
      " - 0s - loss: 0.3810 - acc: 0.8750 - val_loss: 0.6315 - val_acc: 0.6885\n",
      "Epoch 99/100\n",
      " - 0s - loss: 0.3667 - acc: 0.8333 - val_loss: 0.6299 - val_acc: 0.6721\n",
      "Epoch 100/100\n",
      " - 0s - loss: 0.3667 - acc: 0.9167 - val_loss: 0.6316 - val_acc: 0.6885\n"
     ]
    }
   ],
   "source": [
    "history = model.fit(X_train, Y_train, validation_data=(X_test, Y_test), epochs=100, batch_size=16, verbose=2)\n"
   ]
  },
  {
   "cell_type": "markdown",
   "metadata": {},
   "source": [
    "We plot the `Model Accuracy`, and `Model Loss`  vs. the number of `Epochs`."
   ]
  },
  {
   "cell_type": "code",
   "execution_count": 148,
   "metadata": {},
   "outputs": [
    {
     "data": {
      "image/png": "[encoded data removed]",
      "text/plain": [
       "<matplotlib.figure.Figure at 0x133d77fd0>"
      ]
     },
     "metadata": {
      "needs_background": "light"
     },
     "output_type": "display_data"
    },
    {
     "data": {
      "image/png": "[encoded data removed]",
      "text/plain": [
       "<matplotlib.figure.Figure at 0x133a730b8>"
      ]
     },
     "metadata": {
      "needs_background": "light"
     },
     "output_type": "display_data"
    }
   ],
   "source": [
    "# Plot the model accuracy vs. number of Epochs\n",
    "plt.plot(history.history['acc'])\n",
    "plt.plot(history.history['val_acc'])\n",
    "plt.title('Model Accuracy')\n",
    "plt.ylabel('Accuracy')\n",
    "plt.xlabel('Epochs')\n",
    "plt.legend(['Train', 'Test'])\n",
    "plt.show()\n",
    "\n",
    "# Plot the Loss function vs. number of Epochs\n",
    "plt.plot(history.history['loss'])\n",
    "plt.plot(history.history['val_loss'])\n",
    "plt.title('Model Loss')\n",
    "plt.ylabel('Loss')\n",
    "plt.xlabel('Epochs')\n",
    "plt.legend(['Train', 'Test'])\n",
    "plt.show()"
   ]
  },
  {
   "cell_type": "markdown",
   "metadata": {},
   "source": [
    "Evaluating our model's performance, we define the f1 score to be:\n",
    "\n",
    "$$f1 = \\frac{precision^{-1} + recall^{-1}}{2}$$\n",
    "\n",
    "\n",
    "$$precision = \\frac{\\textit{true positives}}{\\textit{true positives} + \\textit{false positives}}$$\n",
    "\n",
    "$$recall = \\frac{\\textit{true positives}}{\\textit{true positives} + \\textit{false negatives}}$$\n",
    "\n",
    "Check this [Wikipedia](http://https://en.wikipedia.org/wiki/Precision_and_recall) page for more details on precision and recall.\n",
    "\n",
    "We compute our model's predictions on the test set `X_test` and print a `classfication_report` from the imported package `sklearn.metrics`."
   ]
  },
  {
   "cell_type": "code",
   "execution_count": 149,
   "metadata": {},
   "outputs": [
    {
     "name": "stdout",
     "output_type": "stream",
     "text": [
      "Model Accracy: 31.14754098360656 %\n",
      "              precision    recall  f1-score   support\n",
      "\n",
      "           0       0.68      0.86      0.76        35\n",
      "           1       0.71      0.46      0.56        26\n",
      "\n",
      "   micro avg       0.69      0.69      0.69        61\n",
      "   macro avg       0.69      0.66      0.66        61\n",
      "weighted avg       0.69      0.69      0.67        61\n",
      "\n"
     ]
    }
   ],
   "source": [
    "predictions = np.argmax(model.predict(X_test), axis=1)\n",
    "model_accuracy = 100-(accuracy_score(Y_test, predictions)*100)\n",
    "print(\"Model Accracy:\", model_accuracy,\"%\")\n",
    "print(classification_report(Y_test, predictions))"
   ]
  },
  {
   "cell_type": "markdown",
   "metadata": {},
   "source": [
    "With a model accuracy of around 88% and very similar $f1$ score, we have a very good performing model that generalizes well to the test set."
   ]
  }
 ],
 "metadata": {
  "kernelspec": {
   "display_name": "Python 3",
   "language": "python",
   "name": "python3"
  },
  "language_info": {
   "codemirror_mode": {
    "name": "ipython",
    "version": 3
   },
   "file_extension": ".py",
   "mimetype": "text/x-python",
   "name": "python",
   "nbconvert_exporter": "python",
   "pygments_lexer": "ipython3",
   "version": "3.6.4"
  }
 },
 "nbformat": 4,
 "nbformat_minor": 1
}
